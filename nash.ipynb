{
 "cells": [
  {
   "cell_type": "code",
   "execution_count": 1,
   "metadata": {},
   "outputs": [
    {
     "name": "stdout",
     "output_type": "stream",
     "text": [
      "player1, Cost = 4.5: ['A', 'C', 'B', 'D']\n",
      "player2, Cost = 4.5: ['A', 'C', 'B', 'D']\n"
     ]
    }
   ],
   "source": [
    "import model\n",
    "import re, os\n",
    "\n",
    "if __name__ == '__main__':\n",
    "    # initialise the problem\n",
    "    prob = model.CongestionGame()\n",
    "    # add 4 nodes to the game\n",
    "    prob.add_node('A')\n",
    "    prob.add_node('B')\n",
    "    prob.add_node('C')\n",
    "    prob.add_node('D')\n",
    "    # set the number of players\n",
    "    prob.set_player(2)\n",
    "    \n",
    "    # extract information from the input file\n",
    "    model.load_game('game.txt', prob)\n",
    "    \n",
    "    model.print_nash(prob)\n",
    "\n"
   ]
  },
  {
   "cell_type": "code",
   "execution_count": 2,
   "metadata": {},
   "outputs": [
    {
     "name": "stdout",
     "output_type": "stream",
     "text": [
      "{0: 5.0, 1: 4.5, 2: 5.0}\n",
      "{0: ['A', 'C', 'D'], 1: ['A', 'C', 'B', 'D'], 2: ['A', 'B', 'D']}\n"
     ]
    }
   ],
   "source": [
    "if __name__ == '__main__':\n",
    "    # initialise the problem\n",
    "    prob = model.CongestionGame()\n",
    "    # add 4 nodes to the game\n",
    "    prob.add_node('A')\n",
    "    prob.add_node('B')\n",
    "    prob.add_node('C')\n",
    "    prob.add_node('D')\n",
    "    # set the number of players\n",
    "    prob.set_player(3)\n",
    "    \n",
    "    # extract information from the input file\n",
    "    model.load_game('input1.txt', prob)\n",
    "    \n",
    "    model.print_nash(prob)"
   ]
  },
  {
   "cell_type": "code",
   "execution_count": 3,
   "metadata": {},
   "outputs": [
    {
     "name": "stdout",
     "output_type": "stream",
     "text": [
      "{0: 3.0, 1: 3.0, 2: 3.5}\n",
      "{0: ['A', 'C', 'B'], 1: ['A', 'D', 'B'], 2: ['A', 'B']}\n"
     ]
    }
   ],
   "source": [
    "if __name__ == '__main__':\n",
    "    # initialise the problem\n",
    "    prob = model.CongestionGame()\n",
    "    # add 4 nodes to the game\n",
    "    prob.add_node('A')\n",
    "    prob.add_node('B')\n",
    "    prob.add_node('C')\n",
    "    prob.add_node('D')\n",
    "    # set the number of players\n",
    "    prob.set_player(3)\n",
    "    \n",
    "    # extract information from the input file\n",
    "    model.load_game('input2.txt', prob)\n",
    "    \n",
    "    model.print_nash(prob)"
   ]
  },
  {
   "cell_type": "code",
   "execution_count": 5,
   "metadata": {},
   "outputs": [
    {
     "name": "stdout",
     "output_type": "stream",
     "text": [
      "{0: 2.0, 1: 4.5, 2: 2.0}\n",
      "{0: ['A', 'C'], 1: ['A', 'C', 'B', 'D'], 2: ['B', 'D']}\n"
     ]
    }
   ],
   "source": [
    "if __name__ == '__main__':\n",
    "    # initialise the problem\n",
    "    prob = model.CongestionGame()\n",
    "    # add 4 nodes to the game\n",
    "    prob.add_node('A')\n",
    "    prob.add_node('B')\n",
    "    prob.add_node('C')\n",
    "    prob.add_node('D')\n",
    "    # set the number of players\n",
    "    prob.set_player(3)\n",
    "    \n",
    "    # extract information from the input file\n",
    "    model.load_game('input3.txt', prob)\n",
    "    \n",
    "    model.print_nash(prob)"
   ]
  }
 ],
 "metadata": {
  "kernelspec": {
   "display_name": "Python 3.8.10 64-bit",
   "language": "python",
   "name": "python3"
  },
  "language_info": {
   "codemirror_mode": {
    "name": "ipython",
    "version": 3
   },
   "file_extension": ".py",
   "mimetype": "text/x-python",
   "name": "python",
   "nbconvert_exporter": "python",
   "pygments_lexer": "ipython3",
   "version": "3.8.10"
  },
  "orig_nbformat": 4,
  "vscode": {
   "interpreter": {
    "hash": "dc41c4f2c88879a9099f578bbddf1009fb0154e74bf768ee23e31b5969992a66"
   }
  }
 },
 "nbformat": 4,
 "nbformat_minor": 2
}
